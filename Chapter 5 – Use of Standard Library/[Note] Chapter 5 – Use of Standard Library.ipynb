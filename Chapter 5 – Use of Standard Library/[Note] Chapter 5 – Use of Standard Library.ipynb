{
 "cells": [
  {
   "metadata": {},
   "cell_type": "markdown",
   "source": [
    "# Operating System(OS) Interface\n",
    "## 介绍\n",
    "Python OS系统模块为建立用户与操作系统之间的交互提供了便利。  \n",
    "它提供了许多有用的操作系统函数，用于执行基于操作系统的任务和获取操作系统的相关信息。  \n",
    "OS隶属于 Python 的标准库实用程序模块。该模块提供了一种可移植的方式来使用依赖于操作系统的功能。\n",
    "## 使用\n",
    "通过导入模块`import os`"
   ],
   "id": "6a5230c3095f49b3"
  },
  {
   "metadata": {
    "ExecuteTime": {
     "end_time": "2024-11-21T00:14:17.299035Z",
     "start_time": "2024-11-21T00:14:17.288579Z"
    }
   },
   "cell_type": "code",
   "source": [
    "import os\n",
    "print(os.name)"
   ],
   "id": "8c64dc4362308b1a",
   "outputs": [
    {
     "name": "stdout",
     "output_type": "stream",
     "text": [
      "nt\n"
     ]
    }
   ],
   "execution_count": 1
  },
  {
   "metadata": {},
   "cell_type": "markdown",
   "source": [
    "## 功能\n",
    "### 查看当前文件目录 `os.getcwd()`  \n",
    "通过`os.getcwd()`  \n",
    "函数`os.getcwd()` 返回用于执行代码的文件的当前工作目录 *（Current Working Directory）*"
   ],
   "id": "ea49ea0fe7c70561"
  },
  {
   "metadata": {
    "ExecuteTime": {
     "end_time": "2024-11-21T00:17:24.324698Z",
     "start_time": "2024-11-21T00:17:24.320682Z"
    }
   },
   "cell_type": "code",
   "source": "print(os.getcwd())",
   "id": "64a859fa8f4cde60",
   "outputs": [
    {
     "name": "stdout",
     "output_type": "stream",
     "text": [
      "E:\\PythonProgramming\\Python-Learning-Notes-and-Homework\\Python-Learning-Notes-Homework\\Chapter 5 – Use of Standard Library\n"
     ]
    }
   ],
   "execution_count": 3
  },
  {
   "metadata": {},
   "cell_type": "markdown",
   "source": [
    "### 新建文件夹 `os.mkdir()`  \n",
    "通过`os.mkdir()`,创建新的目录"
   ],
   "id": "97a149a9f6414099"
  },
  {
   "metadata": {},
   "cell_type": "code",
   "outputs": [],
   "execution_count": null,
   "source": "os.mkdir(\"D:\\\\Demo\")    #它将根据函数字符串参数中的路径，在 D 盘中创建名为 Demo 文件夹的新目录。",
   "id": "994048a44234119d"
  },
  {
   "metadata": {},
   "cell_type": "markdown",
   "source": [
    "### 更改到其他工作目录 `os.chdir()`  \n",
    "方法 `chdir()` 将当前工作目录更改为给定路径。它在所有情况下都返回 None。  \n",
    "要将当前目录设置为父目录，请在 `chdir()` 函数中使用“... ”作为参数。"
   ],
   "id": "8524d0f270906d86"
  },
  {
   "metadata": {
    "ExecuteTime": {
     "end_time": "2024-11-21T00:23:09.942693Z",
     "start_time": "2024-11-21T00:23:09.939415Z"
    }
   },
   "cell_type": "code",
   "source": [
    "os.chdir(\"D://\")   \n",
    "#检查当前工作目录\n",
    "retval=os.getcwd() \n",
    "print(\"Directory changed successfully\",retval)"
   ],
   "id": "99f8f7319dab2949",
   "outputs": [
    {
     "name": "stdout",
     "output_type": "stream",
     "text": [
      "Directory changed successfully D:\\\n"
     ]
    }
   ],
   "execution_count": 4
  },
  {
   "metadata": {
    "ExecuteTime": {
     "end_time": "2024-11-21T00:27:44.040415Z",
     "start_time": "2024-11-21T00:27:44.032243Z"
    }
   },
   "cell_type": "code",
   "source": [
    " # 新建文件夹\n",
    "os.mkdir(\"D://Tempdir\") \n",
    "# 修改当前工作目录\n",
    "os.chdir(\"D://Tempdir\")   \n",
    "# 检测当前工作目录\n",
    "retval=os.getcwd() \n",
    "print(\"Directory changed successfully\",retval) \n",
    "os.chdir(\"..\") \n",
    "# 获得当前目录（为所在目录的父目录）\n",
    "retval=os.getcwd() \n",
    "print(\"Parent directory is\",retval) "
   ],
   "id": "dc39ec9bed8d5d5",
   "outputs": [
    {
     "name": "stdout",
     "output_type": "stream",
     "text": [
      "Directory changed successfully D:\\Tempdir\n",
      "Parent directory is D:\\\n"
     ]
    }
   ],
   "execution_count": 5
  },
  {
   "metadata": {},
   "cell_type": "markdown",
   "source": [
    "### 删除工作目录 `os.rmdir()`\n",
    "OS模块中的 `rmdir()` 函数可以删除指定目录的绝对路径或相对路径。  \n",
    "但是，我们不能删除 **当前工作目录**。\n",
    "此外，要删除的目录 **必须是空目录**。   \n",
    "例如，如果 `tempdir` 是当前目录，就不会被移除。我们必须更改当前工作目录，然后删除 `tempdir`。"
   ],
   "id": "834257dfbe006de2"
  },
  {
   "metadata": {
    "ExecuteTime": {
     "end_time": "2024-11-21T00:30:50.039060Z",
     "start_time": "2024-11-21T00:30:49.823864Z"
    }
   },
   "cell_type": "code",
   "source": [
    "#错误示范\n",
    "os.chdir(\"D://tempdir\") \n",
    "#check current working directory \n",
    "print(os.getcwd()) \n",
    "#remove current working directory \n",
    "os.rmdir(\"D://tempdir\")"
   ],
   "id": "3cfe239c1ed8bf8c",
   "outputs": [
    {
     "name": "stdout",
     "output_type": "stream",
     "text": [
      "D:\\tempdir\n"
     ]
    },
    {
     "ename": "PermissionError",
     "evalue": "[WinError 32] 另一个程序正在使用此文件，进程无法访问。: 'D://tempdir'",
     "output_type": "error",
     "traceback": [
      "\u001B[1;31m---------------------------------------------------------------------------\u001B[0m",
      "\u001B[1;31mPermissionError\u001B[0m                           Traceback (most recent call last)",
      "Cell \u001B[1;32mIn[6], line 6\u001B[0m\n\u001B[0;32m      4\u001B[0m \u001B[38;5;28mprint\u001B[39m(os\u001B[38;5;241m.\u001B[39mgetcwd()) \n\u001B[0;32m      5\u001B[0m \u001B[38;5;66;03m#remove current working directory \u001B[39;00m\n\u001B[1;32m----> 6\u001B[0m \u001B[43mos\u001B[49m\u001B[38;5;241;43m.\u001B[39;49m\u001B[43mrmdir\u001B[49m\u001B[43m(\u001B[49m\u001B[38;5;124;43m\"\u001B[39;49m\u001B[38;5;124;43mD://tempdir\u001B[39;49m\u001B[38;5;124;43m\"\u001B[39;49m\u001B[43m)\u001B[49m\n",
      "\u001B[1;31mPermissionError\u001B[0m: [WinError 32] 另一个程序正在使用此文件，进程无法访问。: 'D://tempdir'"
     ]
    }
   ],
   "execution_count": 6
  },
  {
   "metadata": {},
   "cell_type": "markdown",
   "source": "这将导致 **权限错误** *(另一个程序正在使用此文件，进程无法访问)*。这就是我们必须更改当前工作目录的原因。",
   "id": "3d50926f9b2a9e63"
  },
  {
   "metadata": {
    "ExecuteTime": {
     "end_time": "2024-11-21T00:31:30.300488Z",
     "start_time": "2024-11-21T00:31:30.296958Z"
    }
   },
   "cell_type": "code",
   "source": [
    "os.chdir(\"D://tempdir\") \n",
    "os.chdir(\"..\") \n",
    "os.rmdir(\"tempdir\") "
   ],
   "id": "29f4177a8f87dc0c",
   "outputs": [],
   "execution_count": 7
  },
  {
   "metadata": {},
   "cell_type": "markdown",
   "source": [
    "## 辅助功能\n",
    "内置的 `dir()` 和 `help()` 函数可作为处理 os 等大型模块的交互式辅助工具：  \n",
    "`dir(os)`返回所有模块函数的列表   \n",
    "`help(os)`返回根据模块文档字符串创建的详细手册页面 "
   ],
   "id": "58ff9bef54060213"
  },
  {
   "metadata": {},
   "cell_type": "code",
   "outputs": [],
   "execution_count": null,
   "source": [
    "print(dir(os)) # returns a list of all module functions \n",
    "print(help(os)) # returns an extensive manual page created from the module's doc strings "
   ],
   "id": "3bd1a66763400598"
  }
 ],
 "metadata": {
  "kernelspec": {
   "display_name": "Python 3",
   "language": "python",
   "name": "python3"
  },
  "language_info": {
   "codemirror_mode": {
    "name": "ipython",
    "version": 2
   },
   "file_extension": ".py",
   "mimetype": "text/x-python",
   "name": "python",
   "nbconvert_exporter": "python",
   "pygments_lexer": "ipython2",
   "version": "2.7.6"
  }
 },
 "nbformat": 4,
 "nbformat_minor": 5
}
