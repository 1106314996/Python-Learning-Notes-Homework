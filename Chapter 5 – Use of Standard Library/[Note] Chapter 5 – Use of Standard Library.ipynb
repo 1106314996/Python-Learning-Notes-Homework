{
 "cells": [
  {
   "metadata": {},
   "cell_type": "markdown",
   "source": [
    "# 实用库(Libraries)\n",
    "## Operating System(OS) Interface\n",
    "### 介绍\n",
    "Python OS系统模块为建立用户与操作系统之间的交互提供了便利。  \n",
    "它提供了许多有用的操作系统函数，用于执行基于操作系统的任务和获取操作系统的相关信息。  \n",
    "OS隶属于 Python 的标准库实用程序模块。该模块提供了一种可移植的方式来使用依赖于操作系统的功能。\n",
    "### 使用\n",
    "通过导入模块`import os`"
   ],
   "id": "6a5230c3095f49b3"
  },
  {
   "metadata": {
    "ExecuteTime": {
     "end_time": "2024-11-21T01:01:03.097822Z",
     "start_time": "2024-11-21T01:01:03.091289Z"
    }
   },
   "cell_type": "code",
   "source": [
    "import os\n",
    "from dbm import error\n",
    "\n",
    "print(os.name)"
   ],
   "id": "8c64dc4362308b1a",
   "outputs": [
    {
     "name": "stdout",
     "output_type": "stream",
     "text": [
      "nt\n"
     ]
    }
   ],
   "execution_count": 2
  },
  {
   "metadata": {},
   "cell_type": "markdown",
   "source": [
    "### 功能\n",
    "#### 查看当前文件目录 `os.getcwd()`  \n",
    "通过`os.getcwd()`  \n",
    "函数`os.getcwd()` 返回用于执行代码的文件的当前工作目录 *（Current Working Directory）*"
   ],
   "id": "ea49ea0fe7c70561"
  },
  {
   "metadata": {
    "ExecuteTime": {
     "end_time": "2024-11-21T01:01:12.879888Z",
     "start_time": "2024-11-21T01:01:12.875957Z"
    }
   },
   "cell_type": "code",
   "source": [
    "original_path = os.getcwd()\n",
    "print(os.getcwd())"
   ],
   "id": "64a859fa8f4cde60",
   "outputs": [
    {
     "name": "stdout",
     "output_type": "stream",
     "text": [
      "E:\\PythonProgramming\\Python-Learning-Notes-and-Homework\\Python-Learning-Notes-Homework\\Chapter 5 – Use of Standard Library\n"
     ]
    }
   ],
   "execution_count": 4
  },
  {
   "metadata": {},
   "cell_type": "markdown",
   "source": [
    "#### 新建文件夹 `os.mkdir()`  \n",
    "通过`os.mkdir()`,创建新的目录"
   ],
   "id": "97a149a9f6414099"
  },
  {
   "metadata": {},
   "cell_type": "code",
   "outputs": [],
   "execution_count": null,
   "source": "os.mkdir(\"D:\\\\Demo\")    #它将根据函数字符串参数中的路径，在 D 盘中创建名为 Demo 文件夹的新目录。",
   "id": "994048a44234119d"
  },
  {
   "metadata": {},
   "cell_type": "markdown",
   "source": [
    "#### 更改到其他工作目录 `os.chdir()`  \n",
    "方法 `chdir()` 将当前工作目录更改为给定路径。它在所有情况下都返回 None。  \n",
    "要将当前目录设置为父目录，请在 `chdir()` 函数中使用“... ”作为参数。"
   ],
   "id": "8524d0f270906d86"
  },
  {
   "metadata": {
    "ExecuteTime": {
     "end_time": "2024-11-21T01:00:30.805754Z",
     "start_time": "2024-11-21T01:00:30.799475Z"
    }
   },
   "cell_type": "code",
   "source": [
    "os.chdir(\"D://\")   \n",
    "#检查当前工作目录\n",
    "retval=os.getcwd() \n",
    "print(\"Directory changed successfully\",retval)"
   ],
   "id": "99f8f7319dab2949",
   "outputs": [
    {
     "name": "stdout",
     "output_type": "stream",
     "text": [
      "Directory changed successfully D:\\\n"
     ]
    }
   ],
   "execution_count": 19
  },
  {
   "metadata": {
    "ExecuteTime": {
     "end_time": "2024-11-21T00:27:44.040415Z",
     "start_time": "2024-11-21T00:27:44.032243Z"
    }
   },
   "cell_type": "code",
   "source": [
    " # 新建文件夹\n",
    "os.mkdir(\"D://Tempdir\") \n",
    "# 修改当前工作目录\n",
    "os.chdir(\"D://Tempdir\")   \n",
    "# 检测当前工作目录\n",
    "retval=os.getcwd() \n",
    "print(\"Directory changed successfully\",retval) \n",
    "os.chdir(\"..\") \n",
    "# 获得当前目录（为所在目录的父目录）\n",
    "retval=os.getcwd() \n",
    "print(\"Parent directory is\",retval) "
   ],
   "id": "dc39ec9bed8d5d5",
   "outputs": [
    {
     "name": "stdout",
     "output_type": "stream",
     "text": [
      "Directory changed successfully D:\\Tempdir\n",
      "Parent directory is D:\\\n"
     ]
    }
   ],
   "execution_count": 5
  },
  {
   "metadata": {},
   "cell_type": "markdown",
   "source": [
    "#### 删除工作目录 `os.rmdir()`\n",
    "OS模块中的 `rmdir()` 函数可以删除指定目录的绝对路径或相对路径。  \n",
    "但是，我们不能删除 **当前工作目录**。\n",
    "此外，要删除的目录 **必须是空目录**。   \n",
    "例如，如果 `tempdir` 是当前目录，就不会被移除。我们必须更改当前工作目录，然后删除 `tempdir`。"
   ],
   "id": "834257dfbe006de2"
  },
  {
   "metadata": {
    "ExecuteTime": {
     "end_time": "2024-11-21T00:30:50.039060Z",
     "start_time": "2024-11-21T00:30:49.823864Z"
    }
   },
   "cell_type": "code",
   "source": [
    "#错误示范\n",
    "os.chdir(\"D://tempdir\") \n",
    "#check current working directory \n",
    "print(os.getcwd()) \n",
    "#remove current working directory \n",
    "os.rmdir(\"D://tempdir\")"
   ],
   "id": "3cfe239c1ed8bf8c",
   "outputs": [
    {
     "name": "stdout",
     "output_type": "stream",
     "text": [
      "D:\\tempdir\n"
     ]
    },
    {
     "ename": "PermissionError",
     "evalue": "[WinError 32] 另一个程序正在使用此文件，进程无法访问。: 'D://tempdir'",
     "output_type": "error",
     "traceback": [
      "\u001B[1;31m---------------------------------------------------------------------------\u001B[0m",
      "\u001B[1;31mPermissionError\u001B[0m                           Traceback (most recent call last)",
      "Cell \u001B[1;32mIn[6], line 6\u001B[0m\n\u001B[0;32m      4\u001B[0m \u001B[38;5;28mprint\u001B[39m(os\u001B[38;5;241m.\u001B[39mgetcwd()) \n\u001B[0;32m      5\u001B[0m \u001B[38;5;66;03m#remove current working directory \u001B[39;00m\n\u001B[1;32m----> 6\u001B[0m \u001B[43mos\u001B[49m\u001B[38;5;241;43m.\u001B[39;49m\u001B[43mrmdir\u001B[49m\u001B[43m(\u001B[49m\u001B[38;5;124;43m\"\u001B[39;49m\u001B[38;5;124;43mD://tempdir\u001B[39;49m\u001B[38;5;124;43m\"\u001B[39;49m\u001B[43m)\u001B[49m\n",
      "\u001B[1;31mPermissionError\u001B[0m: [WinError 32] 另一个程序正在使用此文件，进程无法访问。: 'D://tempdir'"
     ]
    }
   ],
   "execution_count": 6
  },
  {
   "metadata": {},
   "cell_type": "markdown",
   "source": "这将导致 **权限错误** *(另一个程序正在使用此文件，进程无法访问)*。这就是我们必须更改当前工作目录的原因。",
   "id": "3d50926f9b2a9e63"
  },
  {
   "metadata": {
    "ExecuteTime": {
     "end_time": "2024-11-21T00:31:30.300488Z",
     "start_time": "2024-11-21T00:31:30.296958Z"
    }
   },
   "cell_type": "code",
   "source": [
    "os.chdir(\"D://tempdir\") \n",
    "os.chdir(\"..\") \n",
    "os.rmdir(\"tempdir\") "
   ],
   "id": "29f4177a8f87dc0c",
   "outputs": [],
   "execution_count": 7
  },
  {
   "metadata": {},
   "cell_type": "markdown",
   "source": [
    "### 辅助功能\n",
    "内置的 `dir()` 和 `help()` 函数可作为处理 os 等大型模块的交互式辅助工具：  \n",
    "`dir(os)`返回所有模块函数的列表   \n",
    "`help(os)`返回根据模块文档字符串创建的详细手册页面 "
   ],
   "id": "58ff9bef54060213"
  },
  {
   "metadata": {},
   "cell_type": "code",
   "outputs": [],
   "execution_count": null,
   "source": [
    "print(dir(os)) # returns a list of all module functions \n",
    "print(help(os)) # returns an extensive manual page created from the module's doc strings "
   ],
   "id": "3bd1a66763400598"
  },
  {
   "metadata": {},
   "cell_type": "markdown",
   "source": [
    "## 获取需求文件\n",
    "### Glob模块\n",
    "glob 模块可查找与指定模式匹配的所有路径名。它提供了一个从目录通配符搜索中生成文件列表的函数"
   ],
   "id": "1a50b7a8cc92a272"
  },
  {
   "metadata": {
    "ExecuteTime": {
     "end_time": "2024-11-21T01:01:59.500265Z",
     "start_time": "2024-11-21T01:01:59.492471Z"
    }
   },
   "cell_type": "code",
   "source": [
    "import glob \n",
    "os.chdir(original_path)\n",
    "retvalue=glob.glob(\"*.ipynb\") \n",
    "print(retvalue) "
   ],
   "id": "e46c795a52aabc12",
   "outputs": [
    {
     "name": "stdout",
     "output_type": "stream",
     "text": [
      "['[Note] Chapter 5 – Use of Standard Library.ipynb']\n"
     ]
    }
   ],
   "execution_count": 8
  },
  {
   "metadata": {},
   "cell_type": "markdown",
   "source": [
    "## 命令行参数\n",
    "普通实用程序脚本通常需要处理命令行参数。  \n",
    "这些参数以列表形式存储在 `sys` 模块的 `argv` 属性中。  \n",
    "Python sys 模块通过 `sys.argv` 提供对任何命令行参数的访问。\n",
    "- sys.argv 是命令行参数列表。\n",
    "- len(sys.argv) 是命令行参数的个数\n"
   ],
   "id": "e4dd8adf5697d937"
  },
  {
   "metadata": {},
   "cell_type": "code",
   "source": [
    "import sys   \n",
    "print(sys.argv) \n",
    "print(type(sys.argv)) \n",
    "print(len(sys.argv)) \n"
   ],
   "id": "1b4a6901322c7f1e",
   "outputs": [],
   "execution_count": null
  },
  {
   "metadata": {},
   "cell_type": "markdown",
   "source": [
    "## 数学运算\n",
    "Python 数学模块定义了最著名的数学函数，包括三角函数、表示函数、对数函数等。  \n",
    "### 数学常数\n",
    "Pie（n）：它是一个著名的数学常数，定义为圆周率与圆直径之比。其值为 3.141592653589793。  \n",
    "欧拉数（e）： 它被定义为自然对数的底数，其值为 2.718281828459045。  \n"
   ],
   "id": "22409979523a5d00"
  },
  {
   "metadata": {
    "ExecuteTime": {
     "end_time": "2024-11-21T01:31:04.021602Z",
     "start_time": "2024-11-21T01:31:04.017633Z"
    }
   },
   "cell_type": "code",
   "source": [
    "import math\n",
    "print(math.pi)\n",
    "print(math.e)"
   ],
   "id": "ce8d630498ff8723",
   "outputs": [
    {
     "name": "stdout",
     "output_type": "stream",
     "text": [
      "3.141592653589793\n",
      "2.718281828459045\n"
     ]
    }
   ],
   "execution_count": 24
  },
  {
   "metadata": {},
   "cell_type": "markdown",
   "source": [
    "### 取对数\n",
    "#### 以e为底  \n",
    "`math.log(数字,底数)`此方法返回给定数字的自然对数。"
   ],
   "id": "813818a2b7fa5be5"
  },
  {
   "metadata": {
    "ExecuteTime": {
     "end_time": "2024-11-21T01:28:22.749022Z",
     "start_time": "2024-11-21T01:28:22.744733Z"
    }
   },
   "cell_type": "code",
   "source": [
    "import math \n",
    "number=2e-7 \n",
    "print('log(fabs(x), base) is',math.log(math.fabs(number),10))   #math.fabs()取绝对值"
   ],
   "id": "5a15254d51065e36",
   "outputs": [
    {
     "name": "stdout",
     "output_type": "stream",
     "text": [
      "0.0\n",
      "log(fabs(x), base) is -6.698970004336019\n"
     ]
    }
   ],
   "execution_count": 16
  },
  {
   "metadata": {},
   "cell_type": "markdown",
   "source": [
    "#### 以10为底\n",
    "`math.log10() `\n",
    "此方法返回给定数字的 10 为底对数，称为标准对数。"
   ],
   "id": "67d94bc4e4040ab3"
  },
  {
   "metadata": {
    "ExecuteTime": {
     "end_time": "2024-11-21T01:29:12.694501Z",
     "start_time": "2024-11-21T01:29:12.690839Z"
    }
   },
   "cell_type": "code",
   "source": [
    "x=13 # small value of of x     \n",
    "print('log10(x) is :', math.log10(x))     "
   ],
   "id": "ac83aec2d0dcb46d",
   "outputs": [
    {
     "name": "stdout",
     "output_type": "stream",
     "text": [
      "log10(x) is : 1.1139433523068367\n"
     ]
    }
   ],
   "execution_count": 17
  },
  {
   "metadata": {},
   "cell_type": "markdown",
   "source": [
    "### 返回浮点数\n",
    "`math.exp()` 该方法将 e 提升到给定数值后返回浮点数。"
   ],
   "id": "b51b3131fbc01157"
  },
  {
   "metadata": {
    "ExecuteTime": {
     "end_time": "2024-11-21T01:29:16.190424Z",
     "start_time": "2024-11-21T01:29:16.187085Z"
    }
   },
   "cell_type": "code",
   "source": [
    "number = 5e-2  # small value of of x     \n",
    "print('The given number (x) is :', number)     \n",
    "print('e^x (using exp() function) is :', math.exp(number)-1)  "
   ],
   "id": "92ca25510400e0a9",
   "outputs": [
    {
     "name": "stdout",
     "output_type": "stream",
     "text": [
      "The given number (x) is : 0.05\n",
      "e^x (using exp() function) is : 0.05127109637602412\n"
     ]
    }
   ],
   "execution_count": 18
  },
  {
   "metadata": {},
   "cell_type": "markdown",
   "source": [
    "### 向下取整\n",
    "`math.floor(x)` 此方法返回 x 的底限值。它返回小于或等于 x 的值。"
   ],
   "id": "baeb2bcbbf3d95a9"
  },
  {
   "metadata": {
    "ExecuteTime": {
     "end_time": "2024-11-21T01:29:23.714240Z",
     "start_time": "2024-11-21T01:29:23.708902Z"
    }
   },
   "cell_type": "code",
   "source": [
    "number = math.floor(10.25201)  \n",
    "print(\"The floor value is:\",number)   "
   ],
   "id": "df2ce406509e6de9",
   "outputs": [
    {
     "name": "stdout",
     "output_type": "stream",
     "text": [
      "The floor value is: 10\n"
     ]
    }
   ],
   "execution_count": 19
  },
  {
   "metadata": {},
   "cell_type": "markdown",
   "source": "",
   "id": "4d4e4344765a450a"
  },
  {
   "metadata": {},
   "cell_type": "markdown",
   "source": [
    "### 向上取整\n",
    "`math.ceil(x) `此方法返回 x 的ceil 值。它返回大于或等于 x 的值。\n"
   ],
   "id": "655c4eb413ba3150"
  },
  {
   "metadata": {
    "ExecuteTime": {
     "end_time": "2024-11-21T01:29:25.413684Z",
     "start_time": "2024-11-21T01:29:25.409121Z"
    }
   },
   "cell_type": "code",
   "source": [
    "number = math.ceil(10.25201)  \n",
    "print(\"The ceil value is:\",number)  "
   ],
   "id": "9f0aa8c0ce368d73",
   "outputs": [
    {
     "name": "stdout",
     "output_type": "stream",
     "text": [
      "The ceil value is: 11\n"
     ]
    }
   ],
   "execution_count": 20
  },
  {
   "metadata": {},
   "cell_type": "markdown",
   "source": [
    "### 阶乘运算\n",
    "math.factorial() 此方法返回给定数字 x 的阶乘。如果 x 不是整数，会引发 ValueError。"
   ],
   "id": "d99dd728db324089"
  },
  {
   "metadata": {
    "ExecuteTime": {
     "end_time": "2024-11-21T01:29:28.360202Z",
     "start_time": "2024-11-21T01:29:28.355320Z"
    }
   },
   "cell_type": "code",
   "source": [
    "number = math.factorial(7)   \n",
    "print(\"The factorial of number:\",number)  "
   ],
   "id": "1eeef0ef14bb9241",
   "outputs": [
    {
     "name": "stdout",
     "output_type": "stream",
     "text": [
      "The factorial of number: 5040\n"
     ]
    }
   ],
   "execution_count": 21
  },
  {
   "metadata": {},
   "cell_type": "markdown",
   "source": [
    "### 幂运算\n",
    "`math.pow(x,y)` 此方法返回与 y 值对应的 x 的幂。如果 x 的值为负数或 y 不是整数，则会引发 ValueError。"
   ],
   "id": "273f9fe90acf9e16"
  },
  {
   "metadata": {
    "ExecuteTime": {
     "end_time": "2024-11-21T01:29:32.013245Z",
     "start_time": "2024-11-21T01:29:32.009324Z"
    }
   },
   "cell_type": "code",
   "source": [
    "number = math.pow(10,2)   \n",
    "print(\"The power of number:\",number)  "
   ],
   "id": "896ab8c4fb85db2f",
   "outputs": [
    {
     "name": "stdout",
     "output_type": "stream",
     "text": [
      "The power of number: 100.0\n"
     ]
    }
   ],
   "execution_count": 22
  },
  {
   "metadata": {},
   "cell_type": "markdown",
   "source": [
    "## Random 随机库\n",
    "Random模块提供了进行随机选择的工具：  \n",
    "`random.choice()` 随机选择列表的元素\n",
    "`random.sample()` 不放回取样  \n",
    "`random.random()` 随机浮点数(默认在[0,1]之间选择)  \n",
    "`random.randrange()` 抽取围中的一个整数\n"
   ],
   "id": "6194fed044bf203c"
  },
  {
   "metadata": {
    "ExecuteTime": {
     "end_time": "2024-11-21T01:32:50.738206Z",
     "start_time": "2024-11-21T01:32:50.734412Z"
    }
   },
   "cell_type": "code",
   "source": [
    "import random \n",
    "print(random.choice(['apple', 'pear', 'banana']))\n",
    "print(random.sample(range(100), 10)) # sampling without replacement \n",
    "print(random.random()) # random float \n",
    "print(random.randrange(6)) # random integer chosen from range(6) "
   ],
   "id": "51f0b310202e8126",
   "outputs": [
    {
     "name": "stdout",
     "output_type": "stream",
     "text": [
      "banana\n",
      "[23, 77, 16, 57, 75, 17, 67, 6, 72, 89]\n",
      "0.4897683840477597\n",
      "5\n"
     ]
    }
   ],
   "execution_count": 27
  },
  {
   "metadata": {},
   "cell_type": "markdown",
   "source": [
    "## 数据统计\n",
    "统计模块计算数值数据的基本统计属性（平均值、中位数、方差等）\n",
    "`statistics.mean()`返回一个数集的算数平均值  \n",
    "`statistics.median()`返回一个数集的中位数  \n",
    "`statistics.variance()`返回一个数集的方差"
   ],
   "id": "ee7e8acbf987aec8"
  },
  {
   "metadata": {
    "ExecuteTime": {
     "end_time": "2024-11-21T01:32:14.358269Z",
     "start_time": "2024-11-21T01:32:14.354765Z"
    }
   },
   "cell_type": "code",
   "source": [
    "import statistics \n",
    "data = [2.75, 1.75, 1.25, 0.25, 0.5, 1.25, 3.5] \n",
    "print(statistics.mean(data))  \n",
    "print(statistics.median(data))\n",
    "print(statistics.variance(data))"
   ],
   "id": "1ad02525119aa665",
   "outputs": [
    {
     "name": "stdout",
     "output_type": "stream",
     "text": [
      "1.6071428571428572\n",
      "1.25\n",
      "1.3720238095238095\n"
     ]
    }
   ],
   "execution_count": 25
  },
  {
   "metadata": {},
   "cell_type": "markdown",
   "source": [
    "## 日期时间\n",
    "Python 提供的 datetime 模块可以处理真实的日期和时间。  \n",
    "在实际应用中，我们需要处理日期和时间,Python 使我们能够安排我们的 Python 脚本在特定的时间运行。  \n",
    "在 Python 中，日期不是一种数据类型，但我们可以通过导入以 datetime、time 和 calendar 命名的模块来处理日期对象。  \n",
    "通过`import time` 导入"
   ],
   "id": "e0d8c7236f508973"
  },
  {
   "metadata": {},
   "cell_type": "markdown",
   "source": [
    "### 获取时间戳\n",
    "打印自 1970 年 1 月 1 日上午 12 点以来的刻度数   "
   ],
   "id": "2dd56545ae8fb62e"
  },
  {
   "metadata": {
    "ExecuteTime": {
     "end_time": "2024-11-21T01:34:52.730658Z",
     "start_time": "2024-11-21T01:34:52.721107Z"
    }
   },
   "cell_type": "code",
   "source": [
    "import time  \n",
    "#prints the number of ticks spent since 12 AM, 1st January 1970   \n",
    "print(time.time())   "
   ],
   "id": "2fcc41e9febd6b50",
   "outputs": [
    {
     "name": "stdout",
     "output_type": "stream",
     "text": [
      "1732152892.721108\n"
     ]
    }
   ],
   "execution_count": 30
  },
  {
   "metadata": {},
   "cell_type": "markdown",
   "source": [
    "### 获取当前时间\n",
    "time模块的 `localtime()` 函数用于获取当前时间元组。请看下面的示例。"
   ],
   "id": "b5e01794f74bada"
  },
  {
   "metadata": {
    "ExecuteTime": {
     "end_time": "2024-11-21T01:35:41.377621Z",
     "start_time": "2024-11-21T01:35:41.371098Z"
    }
   },
   "cell_type": "code",
   "source": "print(time.localtime(time.time()))",
   "id": "3892792b747da20b",
   "outputs": [
    {
     "name": "stdout",
     "output_type": "stream",
     "text": [
      "time.struct_time(tm_year=2024, tm_mon=11, tm_mday=21, tm_hour=9, tm_min=35, tm_sec=41, tm_wday=3, tm_yday=326, tm_isdst=0)\n"
     ]
    }
   ],
   "execution_count": 31
  },
  {
   "metadata": {},
   "cell_type": "markdown",
   "source": [
    "### 获取格式化时间\n",
    "使用time模块的 `asctime()` 函数可以格式化时间。它会返回所传递时间元组的格式化时间。"
   ],
   "id": "553211ebd962d488"
  },
  {
   "metadata": {
    "ExecuteTime": {
     "end_time": "2024-11-21T01:36:21.351814Z",
     "start_time": "2024-11-21T01:36:21.344952Z"
    }
   },
   "cell_type": "code",
   "source": "print(time.asctime(time.localtime(time.time())))   ",
   "id": "391b11b64e597869",
   "outputs": [
    {
     "name": "stdout",
     "output_type": "stream",
     "text": [
      "Thu Nov 21 09:36:21 2024\n"
     ]
    }
   ],
   "execution_count": 32
  },
  {
   "metadata": {},
   "cell_type": "markdown",
   "source": [
    "## Datetime模块\n",
    " datetime 模块使我们能够创建自定义日期对象，对日期执行各种操作，如比较等。要以日期对象的形式处理日期，我们必须在 python 源代码中导入 datetime 模块。  \n",
    " 请看下面的示例，以获取当前时间的 datetime 对象表示法。"
   ],
   "id": "ee083d7bdc7863cd"
  },
  {
   "metadata": {},
   "cell_type": "code",
   "outputs": [],
   "execution_count": null,
   "source": [
    "import datetime   \n",
    "#returns the current datetime object      \n",
    "print(datetime.datetime.now()) "
   ],
   "id": "54410cb3b85c27a"
  },
  {
   "metadata": {},
   "cell_type": "markdown",
   "source": [
    "## 日历模块\n",
    "Python 的日历模块提供了一个日历对象，该对象包含各种用于处理日历的方法。请看下面的示例，以打印 2020 年 7月 的日历。"
   ],
   "id": "95e164b5bbbdc407"
  },
  {
   "metadata": {
    "ExecuteTime": {
     "end_time": "2024-11-21T01:38:26.478403Z",
     "start_time": "2024-11-21T01:38:26.472475Z"
    }
   },
   "cell_type": "code",
   "source": [
    "import calendar    \n",
    "cal = calendar.month(2020,7)     \n",
    "#printing the calendar of December 2018     \n",
    "print(cal)"
   ],
   "id": "cf2f5f127c49594b",
   "outputs": [
    {
     "name": "stdout",
     "output_type": "stream",
     "text": [
      "     July 2020\n",
      "Mo Tu We Th Fr Sa Su\n",
      "       1  2  3  4  5\n",
      " 6  7  8  9 10 11 12\n",
      "13 14 15 16 17 18 19\n",
      "20 21 22 23 24 25 26\n",
      "27 28 29 30 31\n",
      "\n"
     ]
    }
   ],
   "execution_count": 33
  },
  {
   "metadata": {},
   "cell_type": "markdown",
   "source": [
    "## 数据压缩\n",
    "模块直接支持常见的数据归档和压缩格式，包括：zlib、gzip、bz2、lzma、zipfile 和 tarfile。\n"
   ],
   "id": "9eaac02fcef3732d"
  },
  {
   "metadata": {},
   "cell_type": "code",
   "outputs": [],
   "execution_count": null,
   "source": [
    "import zlib \n",
    "s = b'witch which has which witches wrist watch' \n",
    "print(len(s)) \n",
    "t = zlib.compress(s) \n",
    "print(len(t)) \n",
    "zlib.decompress(t) \n",
    "print(len(t)) \n",
    "zlib.crc32(s) \n",
    "print(len(s)) "
   ],
   "id": "95ebd90e19b11138"
  },
  {
   "metadata": {},
   "cell_type": "code",
   "outputs": [],
   "execution_count": null,
   "source": "",
   "id": "bfe05c6f60b32123"
  }
 ],
 "metadata": {
  "kernelspec": {
   "display_name": "Python 3",
   "language": "python",
   "name": "python3"
  },
  "language_info": {
   "codemirror_mode": {
    "name": "ipython",
    "version": 2
   },
   "file_extension": ".py",
   "mimetype": "text/x-python",
   "name": "python",
   "nbconvert_exporter": "python",
   "pygments_lexer": "ipython2",
   "version": "2.7.6"
  }
 },
 "nbformat": 4,
 "nbformat_minor": 5
}
