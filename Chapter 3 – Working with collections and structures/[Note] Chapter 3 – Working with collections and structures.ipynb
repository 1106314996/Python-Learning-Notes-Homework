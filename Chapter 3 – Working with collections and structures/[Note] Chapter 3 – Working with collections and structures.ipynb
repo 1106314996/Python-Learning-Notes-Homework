{
 "cells": [
  {
   "metadata": {},
   "cell_type": "markdown",
   "source": [
    "## 列表值\n",
    "要访问列表中的值，请使用方括号进行切片，并使用一个或多个索引来获取该索引中的可用值要访问列表中的值，请使用方括号进行切片，并使用一个或多个索引来获取该索引中的可用值  \n",
    "` List[Start:End:Step] `  \n",
    "Start:开始的序号  \n",
    "End:倒数第二个序号,要输出最后一个元素要+1  \n",
    "Step:每隔(Step-1)个输出  "
   ],
   "id": "b2dc4a6a07b4a43f"
  },
  {
   "metadata": {
    "ExecuteTime": {
     "end_time": "2024-11-04T00:34:13.791313Z",
     "start_time": "2024-11-04T00:34:13.787239Z"
    }
   },
   "cell_type": "code",
   "source": [
    "from soupsieve.css_match import DAYS_IN_WEEK\n",
    "\n",
    "list1 = ['physics', 'chemistry', 1997, 2000]\n",
    "list2 = [1, 2, 3, 4, 5, 6, 7]\n",
    "print(\"list1[0]: \", list1[0]) \n",
    "print(\"list1[0:3]: \", list1[0:3]) \n",
    "print(\"list1[0:4:1]: \", list1[0:4:2])\n",
    "print( \"list2[1:5]: \", list2[1:5]) \n",
    "print( \"list2[-5:-1]: \", list2[-5:-1])#不包括list2[-1]\n",
    "print( \"list2[-5:-1:-1]: \", list2[-1:-5:-1])#回文，不包括list2[-5]\n",
    "print( \"list2[::-1]: \", list2[::-1])#回文\n",
    "print( \"list2[-1]: \", list2[-1])"
   ],
   "id": "d627ca8e66831464",
   "outputs": [
    {
     "name": "stdout",
     "output_type": "stream",
     "text": [
      "list1[0]:  physics\n",
      "list1[0:3]:  ['physics', 'chemistry', 1997]\n",
      "list1[0:4:1]:  ['physics', 1997]\n",
      "list2[1:5]:  [2, 3, 4, 5]\n",
      "list2[-5:-1]:  [3, 4, 5, 6]\n",
      "list2[-5:-1:-1]:  [7, 6, 5, 4]\n",
      "list2[::-1]:  [7, 6, 5, 4, 3, 2, 1]\n",
      "list2[-1]:  7\n"
     ]
    }
   ],
   "execution_count": 15
  },
  {
   "metadata": {},
   "cell_type": "markdown",
   "source": [
    "## 列表元素更改  \n",
    "### 列表赋值  \n",
    "直接通过中括号赋值即可\n",
    "### 列表添加元素\n",
    "使用 ` list.append() `\n",
    "### 列表删除元素\n",
    "使用 ` del(list[X]) ` 或者 ` list.pop(X) `(X是元素所在的序号,若不填写则为最后一个,若对变量赋值为它,则为最后一个元素) 或者 ` list.remove(element)`(element是元素值)\n",
    "### 列表获取长度  \n",
    "使用 ` len(list) `,返回一个int\n",
    "### 列表相加  \n",
    "使用 ` + `,连接两个列表\n",
    "### 列表元素重复添加 \n",
    "使用 ` *X `,重复添加元素\n",
    "### 列表判断元素是否在列表\n",
    "使用 ` element in count `,返回一个True/False\n",
    "### 列表遍历元素的值\n",
    "使用 ` for element in list:`,第二行缩进,element可以是任意变量名,返回的是遍历的元素值\n",
    "### 列表判断所含元素数量\n",
    "使用 ` list.count(element) `,查找元素的数量,返回一个int\n",
    "### 列表数据反向排序\n",
    "使用 ` list.reverse() `,返回一个元素排序相反的list  \n",
    "### 获取特定元素\n",
    "使用 ` max(list) ` 和 `min(list)` 分别获取列表中第一个序号的最大/最小元素\n",
    "### **注意**\n",
    "**list最好不要作为变量名，否则会使list()函数失效**"
   ],
   "id": "54356737a9194ead"
  },
  {
   "metadata": {
    "ExecuteTime": {
     "end_time": "2024-11-04T01:07:30.534102Z",
     "start_time": "2024-11-04T01:07:30.529388Z"
    }
   },
   "cell_type": "code",
   "source": [
    "list2=[0,1,2]\n",
    "print(list2[2])\n",
    "list2[2]=2001\n",
    "print(list2[2])\n",
    "\n",
    "list2.append(3)\n",
    "print(list2)\n",
    "\n",
    "del(list2[2])\n",
    "print(list2)\n",
    "list2.append(4)\n",
    "list2.pop(-1)\n",
    "print(list2)\n",
    "list2.append(4)\n",
    "list2.remove(4)\n",
    "\n",
    "print(len(list2))\n",
    "print(type(len(list2)))\n",
    "\n",
    "list1=[3,4,5]\n",
    "print(list2+list1)\n",
    "\n",
    "list3=[\"Hi\",\"Hello\"]*3\n",
    "print(list3)\n",
    "\n",
    "print(\"Hi\" in list3)\n",
    "\n",
    "for element in list3:\n",
    "    print(element)\n",
    "    \n",
    "print(list3)\n",
    "print(list3.count(\"Hi\"))\n",
    "list3.reverse()\n",
    "print(list3)\n",
    "\n",
    "\n"
   ],
   "id": "fbd2a01843ff94f0",
   "outputs": [
    {
     "name": "stdout",
     "output_type": "stream",
     "text": [
      "2\n",
      "2001\n",
      "[0, 1, 2001, 3]\n",
      "[0, 1, 3]\n",
      "[0, 1, 3]\n",
      "3\n",
      "<class 'int'>\n",
      "[0, 1, 3, 3, 4, 5]\n",
      "['Hi', 'Hello', 'Hi', 'Hello', 'Hi', 'Hello']\n",
      "True\n",
      "Hi\n",
      "Hello\n",
      "Hi\n",
      "Hello\n",
      "Hi\n",
      "Hello\n",
      "['Hi', 'Hello', 'Hi', 'Hello', 'Hi', 'Hello']\n",
      "3\n",
      "['Hello', 'Hi', 'Hello', 'Hi', 'Hello', 'Hi']\n"
     ]
    }
   ],
   "execution_count": 23
  },
  {
   "metadata": {},
   "cell_type": "markdown",
   "source": [
    "## 元组  \n",
    "使用小括号,集合起所有元素、元素值**无法更改**的列表\n",
    "但是可以通过给新变量赋值来组合起原有元组\n",
    "### 删除整个元组\n",
    "可以通过 `del(tuple)` 来删除整个元组\n",
    "###  适用方法\n",
    "获取长度、添加、切分、最大最小值、for、in\n",
    "### 数据集的转换\n",
    "使用 `tuple(list)` 来将列表转换成元组\n",
    "### 注意\n",
    "tuple没有 `.reverse` 函数"
   ],
   "id": "5b47a91aec3c4b89"
  },
  {
   "metadata": {
    "ExecuteTime": {
     "end_time": "2024-11-04T01:19:26.728794Z",
     "start_time": "2024-11-04T01:19:26.724264Z"
    }
   },
   "cell_type": "code",
   "source": [
    "tup=(1,2,3,4,5)\n",
    "tup2=(\"cat\",\"dog\")\n",
    "tup3=tup+tup2\n",
    "print(tup3)\n",
    "\n",
    "list4=[1,2,3,4]\n",
    "print(tuple(list4))\n"
   ],
   "id": "f7b75d9c5a2ef742",
   "outputs": [
    {
     "name": "stdout",
     "output_type": "stream",
     "text": [
      "(1, 2, 3, 4, 5, 'cat', 'dog')\n",
      "(1, 2, 3, 4)\n"
     ]
    }
   ],
   "execution_count": 28
  },
  {
   "metadata": {},
   "cell_type": "markdown",
   "source": [
    "## 字典  \n",
    "每个**key**与**value**用`:`分隔,使用`{}`括起来  \n",
    "### key与value引用方法  \n",
    "可以通过`dict[key]`来输出对应的Value,**但是不能**通过`dict[value]`找Key  \n",
    "### 修改Key对应的Value值\n",
    "通过 `dict[key]=new value`来进行新的赋值 \n",
    "### 删除Key对应的Value值\n",
    "通过 `del dict[key]`删除对应 value  \n",
    "通过 `del dict` 删除整个字典  \n",
    "通过 `dict.clear()`删除整个字典的值  \n",
    "### 获取字典信息  \n",
    "通过`len(dict)` 获取key/value的数量\n",
    "通过`dict.items()`以元组形式列出所有的key与value值\n",
    "通过`dict.keys()` 列出所有的key值\n",
    "通过`dict.values()`列出所有的value值\n",
    "### 转换字典到其他数据格式\n",
    "通过 `str(dict)` "
   ],
   "id": "9e3ca2f0b884eb78"
  },
  {
   "metadata": {
    "ExecuteTime": {
     "end_time": "2024-11-04T01:31:52.791811Z",
     "start_time": "2024-11-04T01:31:52.786677Z"
    }
   },
   "cell_type": "code",
   "source": [
    "dict_={'Name':'Liu','Age':18,'Class':1}\n",
    "print(\"dict_['Name']:\",dict_['Name'])\n",
    "\n",
    "dict_['Name']=\"ABC\"\n",
    "print(\"dict_['Name']:\",dict_['Name'])\n",
    "\n",
    "del dict_\n",
    "\n",
    "dict_={'Name':'Liu','Age':18,'Class':1}\n",
    "dict_.clear()\n",
    "print(dict_)\n",
    "\n",
    "dict_={'Name':'Liu','Age':18,'Class':1}\n",
    "print(str(dict_))\n",
    "print(dict_.items())\n",
    "\n"
   ],
   "id": "a014185f7d9184df",
   "outputs": [
    {
     "name": "stdout",
     "output_type": "stream",
     "text": [
      "dict_['Name']: Liu\n",
      "dict_['Name']: ABC\n",
      "{}\n",
      "{'Name': 'Liu', 'Age': 18, 'Class': 1}\n",
      "dict_items([('Name', 'Liu'), ('Age', 18), ('Class', 1)])\n"
     ]
    }
   ],
   "execution_count": 38
  },
  {
   "metadata": {},
   "cell_type": "markdown",
   "source": [
    "## 集合  \n",
    "### 性质  \n",
    "1.集合中的元素**不会**重复  \n",
    "2.集合中的元素**无法**更改  \n",
    "3.集合**无法**使用`index.()`索引和`[]`切片(Set没有给定的顺序)  \n",
    "4.可以通过循环**遍历**获得值\n",
    "### 添加与移除元素\n",
    "通过`set.add(value)`来添加一个元素\n",
    "通过`set.discard(value)`来删除一个元素\n",
    "### 集合的运算\n",
    "通过`|`取两个集合的并集  \n",
    "通过`&`取两个集合的交集  \n",
    "通过`-`取被减集合与两个集合交集的补集  \n",
    "### 判断子集\n",
    "通过`<=`与`>=`来输出一个Boolean"
   ],
   "id": "6db3d752dbcbde51"
  },
  {
   "metadata": {
    "ExecuteTime": {
     "end_time": "2024-11-07T00:22:00.057596Z",
     "start_time": "2024-11-07T00:22:00.053377Z"
    }
   },
   "cell_type": "code",
   "source": [
    "Days= {\"Mon\",\"Tue\",\"Wed\",\"Wed\",\"Thu\",\"Fri\",\"Sat\",\"Sun\"}\n",
    "print(type(Days))\n",
    "print(Days)\n",
    "for Day in Days:\n",
    "    print(Day)\n",
    "\n",
    "Days.add(1)\n",
    "Days.add(2)\n",
    "Days.discard(2)\n",
    "print(Days)\n",
    "\n",
    "num1={1,2,3,4,5}\n",
    "num2={5,6,7,8,9}\n",
    "print(num1|num2)\n",
    "print(num1&num2)\n",
    "print(num1-num2,num2-num1)\n",
    "\n",
    "print(num1<=num2)\n",
    "print((num1&num2)<=num2)"
   ],
   "id": "25ac55a2fd057c93",
   "outputs": [
    {
     "name": "stdout",
     "output_type": "stream",
     "text": [
      "<class 'set'>\n",
      "{'Mon', 'Sun', 'Tue', 'Sat', 'Fri', 'Thu', 'Wed'}\n",
      "Mon\n",
      "Sun\n",
      "Tue\n",
      "Sat\n",
      "Fri\n",
      "Thu\n",
      "Wed\n",
      "{1, 'Fri', 'Sat', 'Mon', 'Wed', 'Tue', 'Sun', 'Thu'}\n",
      "{1, 2, 3, 4, 5, 6, 7, 8, 9}\n",
      "{5}\n",
      "{1, 2, 3, 4} {8, 9, 6, 7}\n",
      "False\n",
      "True\n"
     ]
    }
   ],
   "execution_count": 10
  }
 ],
 "metadata": {
  "kernelspec": {
   "display_name": "Python 3",
   "language": "python",
   "name": "python3"
  },
  "language_info": {
   "codemirror_mode": {
    "name": "ipython",
    "version": 2
   },
   "file_extension": ".py",
   "mimetype": "text/x-python",
   "name": "python",
   "nbconvert_exporter": "python",
   "pygments_lexer": "ipython2",
   "version": "2.7.6"
  }
 },
 "nbformat": 4,
 "nbformat_minor": 5
}
